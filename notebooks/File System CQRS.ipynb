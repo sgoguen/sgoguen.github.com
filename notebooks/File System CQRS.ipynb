{
 "metadata": {
  "celltoolbar": "Slideshow",
  "name": "",
  "signature": "sha256:b7c7e3e61ffe96da99783a7b707f06518f9ce2fd441e22f1412fd311c77f272d"
 },
 "nbformat": 3,
 "nbformat_minor": 0,
 "worksheets": [
  {
   "cells": [
    {
     "cell_type": "markdown",
     "metadata": {
      "slideshow": {
       "slide_type": "slide"
      }
     },
     "source": [
      "# What is CQRS\n",
      "\n",
      "CQRS (Command Query Responsibility Segregation) is an application architecture that focuses on separating your fundamental API into two types of methods:\n",
      "\n",
      "1.  Commands - Simple command methods that *do not* return values.  If anything is going to update the state of your application, it must be done with a command.\n",
      "2.  Queries - These are methods that allow you to inspect the state of your application.  These methods should never fundamentally update the state of your application.\n",
      "\n",
      "We can demonstrate this application with a simple in-memory contact application:"
     ]
    },
    {
     "cell_type": "code",
     "collapsed": false,
     "input": [
      "import json\n",
      "\n",
      "def Contact(name,email):\n",
      "    return dict(name = name, email = email)\n",
      "\n",
      "class ContactApp:\n",
      "    def __init__(self):\n",
      "        self.contacts = {}\n",
      "    def newContact(self,name,email):\n",
      "        self.contacts[name] = Contact(name,email)\n",
      "    def listContacts(self):\n",
      "        return self.contacts.values()\n",
      "    def get"
     ],
     "language": "python",
     "metadata": {
      "slideshow": {
       "slide_type": "slide"
      }
     },
     "outputs": [],
     "prompt_number": 29
    },
    {
     "cell_type": "markdown",
     "metadata": {
      "slideshow": {
       "slide_type": "slide"
      }
     },
     "source": [
      "Let's try it out:"
     ]
    },
    {
     "cell_type": "code",
     "collapsed": false,
     "input": [
      "app = ContactApp()\n",
      "app.newContact(\"Bob\", \"bob@aol.com\")\n",
      "app.newContact(\"George\", \"george@gmail.com\")\n",
      "print(app.listContacts())\n",
      "\n"
     ],
     "language": "python",
     "metadata": {
      "slideshow": {
       "slide_type": "subslide"
      }
     },
     "outputs": [
      {
       "output_type": "stream",
       "stream": "stdout",
       "text": [
        "[{'email': 'bob@aol.com', 'name': 'Bob'}, {'email': 'george@gmail.com', 'name': 'George'}]\n"
       ]
      }
     ],
     "prompt_number": 34
    }
   ],
   "metadata": {}
  }
 ]
}